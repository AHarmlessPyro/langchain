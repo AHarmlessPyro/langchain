{
    "cells": [
        {
            "cell_type": "markdown",
            "metadata": {},
            "source": [
                "---\n",
                "sidebar_label: Hyperbrowser Crawl\n",
                "---\n"
            ]
        },
        {
            "cell_type": "markdown",
            "metadata": {},
            "source": [
                "# Crawl Tool\n",
                "\n",
                "[Hyperbrowser](https://hyperbrowser.ai) is a platform for running and scaling headless browsers. It lets you launch and manage browser sessions at scale and provides easy to use solutions for any webscraping needs, such as scraping a single page or crawling an entire site.\n",
                "\n",
                "Key Features:\n",
                "- Instant Scalability - Spin up hundreds of browser sessions in seconds without infrastructure headaches\n",
                "- Simple Integration - Works seamlessly with popular tools like Puppeteer and Playwright\n",
                "- Powerful APIs - Easy to use APIs for scraping/crawling any site, and much more\n",
                "- Bypass Anti-Bot Measures - Built-in stealth mode, ad blocking, automatic CAPTCHA solving, and rotating proxies\n",
                "\n",
                "This notebook provides a quick overview for getting started with Hyperbrowser [document loader](https://python.langchain.com/docs/concepts/#document-loaders).\n",
                "\n",
                "For more information about Hyperbrowser, please visit the [Hyperbrowser website](https://hyperbrowser.ai) or if you want to check out the docs, you can visit the [Hyperbrowser docs](https://docs.hyperbrowser.ai).\n",
                "\n",
                "The `crawl_tool` is a powerful tool that can crawl entire websites, starting from a given URL. It supports configurable page limits and scraping options, making it perfect for gathering content from multiple pages of a website.\n",
                "\n",
                "## Overview\n",
                "\n",
                "### Integration details\n",
                "\n",
                "| Tool         | Package                | Local | Serializable | [JS support](https://js.langchain.com/docs/integrations/document_loaders/web_loaders/langchain_hyperbrowser_loader) |\n",
                "| :----------- | :--------------------- | :---: | :----------: | :-----------------------------------------------------------------------------------------------------------------: |\n",
                "| Crawl Tool   | langchain-hyperbrowser |  ❌   |      ❌      |                                                         ❌                                                          |\n",
                "\n",
                "## Setup\n",
                "\n",
                "To access the crawl tool you'll need to install the `langchain-hyperbrowser` integration package, and create a Hyperbrowser account and get an API key.\n",
                "\n",
                "### Credentials\n",
                "\n",
                "Head to [Hyperbrowser](https://app.hyperbrowser.ai/) to sign up and generate an API key. Once you've done this set the HYPERBROWSER_API_KEY environment variable:\n",
                "\n",
                "```bash\n",
                "export HYPERBROWSER_API_KEY=<your-api-key>\n",
                "```\n"
            ]
        },
        {
            "cell_type": "markdown",
            "metadata": {},
            "source": [
                "### Installation\n",
                "\n",
                "Install **langchain-hyperbrowser**.\n"
            ]
        },
        {
            "cell_type": "code",
            "execution_count": null,
            "metadata": {},
            "outputs": [],
            "source": [
                "%pip install -qU langchain-hyperbrowser"
            ]
        },
        {
            "cell_type": "markdown",
            "metadata": {},
            "source": [
                "## Basic Usage\n",
                "\n",
                "### Simple Crawling\n"
            ]
        },
        {
            "cell_type": "code",
            "execution_count": null,
            "metadata": {},
            "outputs": [],
            "source": [
                "from langchain_hyperbrowser import HyperbrowserCrawlTool\n",
                "\n",
                "result = HyperbrowserCrawlTool().invoke(\n",
                "    {\n",
                "        \"url\": \"https://example.com\",\n",
                "        \"max_pages\": 2,\n",
                "        \"scrape_options\": {\n",
                "            \"formats\": [\"markdown\"]\n",
                "        }\n",
                "    }\n",
                ")\n",
                "print(result)"
            ]
        },
        {
            "cell_type": "markdown",
            "metadata": {},
            "source": [
                "## Advanced Usage\n",
                "\n",
                "### With Custom Scraping Options\n"
            ]
        },
        {
            "cell_type": "code",
            "execution_count": null,
            "metadata": {},
            "outputs": [],
            "source": [
                "result = HyperbrowserCrawlTool().run(\n",
                "    {\n",
                "        \"url\": \"https://example.com\",\n",
                "        \"max_pages\": 10,\n",
                "        \"scrape_options\": {\n",
                "            \"formats\": [\"markdown\", \"html\"],\n",
                "            \"include_tags\": [\"h1\", \"h2\", \"p\", \"a\"],\n",
                "            \"exclude_tags\": [\"script\", \"style\"],\n",
                "            \"include_metadata\": True\n",
                "        }\n",
                "    }\n",
                ")\n",
                "print(result)"
            ]
        },
        {
            "cell_type": "markdown",
            "metadata": {},
            "source": [
                "### With Custom Session Options\n"
            ]
        },
        {
            "cell_type": "code",
            "execution_count": null,
            "metadata": {},
            "outputs": [],
            "source": [
                "result = HyperbrowserCrawlTool().run(\n",
                "    {\n",
                "        \"url\": \"https://example.com\",\n",
                "        \"max_pages\": 5,\n",
                "        \"scrape_options\": {\n",
                "            \"formats\": [\"markdown\"]\n",
                "        },\n",
                "        \"session_options\": {\n",
                "            \"use_proxy\": True,\n",
                "            \"solve_captchas\": True\n",
                "        }\n",
                "    }\n",
                ")\n",
                "print(result)"
            ]
        },
        {
            "cell_type": "markdown",
            "metadata": {},
            "source": [
                "### Using in an Agent\n"
            ]
        },
        {
            "cell_type": "code",
            "execution_count": null,
            "metadata": {},
            "outputs": [],
            "source": [
                "from langchain.agents import AgentExecutor, create_openai_functions_agent\n",
                "from langchain_openai import ChatOpenAI\n",
                "from langchain_hyperbrowser import HyperbrowserCrawlTool\n",
                "from langchain.prompts import ChatPromptTemplate, MessagesPlaceholder\n",
                "\n",
                "# Initialize the crawl tool\n",
                "crawl_tool = HyperbrowserCrawlTool()\n",
                "\n",
                "# Create the agent with the crawl tool\n",
                "llm = ChatOpenAI(temperature=0)\n",
                "prompt = ChatPromptTemplate.from_messages(\n",
                "    [\n",
                "        (\n",
                "            \"system\",\n",
                "            \"You are a helpful assistant that crawls websites and extracts content.\",\n",
                "        ),\n",
                "        (\"human\", \"{input}\"),\n",
                "        MessagesPlaceholder(variable_name=\"agent_scratchpad\"),\n",
                "    ]\n",
                ")\n",
                "agent = create_openai_functions_agent(llm, [crawl_tool], prompt=prompt)\n",
                "agent_executor = AgentExecutor(agent=agent, tools=[crawl_tool], verbose=True)\n",
                "\n",
                "# Run the agent\n",
                "result = agent_executor.invoke(\n",
                "    {\n",
                "        \"input\": \"Crawl https://example.com and get content from up to 5 pages\"\n",
                "    }\n",
                ")\n",
                "print(result)"
            ]
        },
        {
            "cell_type": "markdown",
            "metadata": {},
            "source": [
                "### Async Usage\n"
            ]
        },
        {
            "cell_type": "code",
            "execution_count": null,
            "metadata": {},
            "outputs": [],
            "source": [
                "async def crawl_data():\n",
                "    tool = HyperbrowserCrawlTool()\n",
                "    result = await tool.arun(\n",
                "        {\n",
                "            \"url\": \"https://example.com\",\n",
                "            \"max_pages\": 5,\n",
                "            \"scrape_options\": {\n",
                "                \"formats\": [\"markdown\"]\n",
                "            }\n",
                "        }\n",
                "    )\n",
                "    return result\n",
                "\n",
                "\n",
                "result = await crawl_data()"
            ]
        },
        {
            "cell_type": "code",
            "execution_count": null,
            "metadata": {},
            "outputs": [],
            "source": [
                "print(result)"
            ]
        },
        {
            "cell_type": "markdown",
            "metadata": {},
            "source": [
                "## API reference\n",
                "\n",
                "- [GitHub](https://github.com/hyperbrowserai/langchain-hyperbrowser/)\n",
                "- [PyPi](https://pypi.org/project/langchain-hyperbrowser/)\n",
                "- [Hyperbrowser Docs](https://docs.hyperbrowser.ai/)\n"
            ]
        }
    ],
    "metadata": {
        "kernelspec": {
            "display_name": "langchain-hyperbrowser-AlekOQAq-py3.12",
            "language": "python",
            "name": "python3"
        },
        "language_info": {
            "codemirror_mode": {
                "name": "ipython",
                "version": 3
            },
            "file_extension": ".py",
            "mimetype": "text/x-python",
            "name": "python",
            "nbconvert_exporter": "python",
            "pygments_lexer": "ipython3",
            "version": "3.12.3"
        }
    },
    "nbformat": 4,
    "nbformat_minor": 4
}
