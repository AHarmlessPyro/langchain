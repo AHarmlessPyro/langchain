{
    "cells": [
        {
            "cell_type": "markdown",
            "metadata": {},
            "source": [
                "---\n",
                "sidebar_label: Hyperbrowser Scrape\n",
                "---\n"
            ]
        },
        {
            "cell_type": "markdown",
            "metadata": {},
            "source": [
                "# Scrape Tool\n",
                "\n",
                "[Hyperbrowser](https://hyperbrowser.ai) is a platform for running and scaling headless browsers. It lets you launch and manage browser sessions at scale and provides easy to use solutions for any webscraping needs, such as scraping a single page or crawling an entire site.\n",
                "\n",
                "Key Features:\n",
                "- Instant Scalability - Spin up hundreds of browser sessions in seconds without infrastructure headaches\n",
                "- Simple Integration - Works seamlessly with popular tools like Puppeteer and Playwright\n",
                "- Powerful APIs - Easy to use APIs for scraping/crawling any site, and much more\n",
                "- Bypass Anti-Bot Measures - Built-in stealth mode, ad blocking, automatic CAPTCHA solving, and rotating proxies\n",
                "\n",
                "This notebook provides a quick overview for getting started with Hyperbrowser [document loader](https://python.langchain.com/docs/concepts/#document-loaders).\n",
                "\n",
                "For more information about Hyperbrowser, please visit the [Hyperbrowser website](https://hyperbrowser.ai) or if you want to check out the docs, you can visit the [Hyperbrowser docs](https://docs.hyperbrowser.ai).\n",
                "\n",
                "The `scrape_tool` is a tool that can scrape content from web pages. It supports both markdown and HTML output formats, along with metadata extraction.\n",
                "\n",
                "## Overview\n",
                "\n",
                "### Integration details\n",
                "\n",
                "| Tool        | Package                | Local | Serializable | [JS support](https://js.langchain.com/docs/integrations/document_loaders/web_loaders/langchain_hyperbrowser_loader) |\n",
                "| :---------- | :--------------------- | :---: | :----------: | :-----------------------------------------------------------------------------------------------------------------: |\n",
                "| Scrape Tool | langchain-hyperbrowser |  ❌   |      ❌      |                                                         ❌                                                          |\n",
                "\n",
                "## Setup\n",
                "\n",
                "To access the scrape tool you'll need to install the `langchain-hyperbrowser` integration package, and create a Hyperbrowser account and get an API key.\n",
                "\n",
                "### Credentials\n",
                "\n",
                "Head to [Hyperbrowser](https://app.hyperbrowser.ai/) to sign up and generate an API key. Once you've done this set the HYPERBROWSER_API_KEY environment variable:\n",
                "\n",
                "```bash\n",
                "export HYPERBROWSER_API_KEY=<your-api-key>\n",
                "```\n"
            ]
        },
        {
            "cell_type": "markdown",
            "metadata": {},
            "source": [
                "### Installation\n",
                "\n",
                "Install **langchain-hyperbrowser**.\n"
            ]
        },
        {
            "cell_type": "code",
            "execution_count": null,
            "metadata": {},
            "outputs": [],
            "source": [
                "%pip install -qU langchain-hyperbrowser"
            ]
        },
        {
            "cell_type": "markdown",
            "metadata": {},
            "source": [
                "## Basic Usage\n",
                "\n",
                "### Simple Scraping\n"
            ]
        },
        {
            "cell_type": "code",
            "execution_count": 2,
            "metadata": {},
            "outputs": [
                {
                    "name": "stdout",
                    "output_type": "stream",
                    "text": [
                        "{'data': ScrapeJobData(metadata={'url': 'https://www.example.com/', 'title': 'Example Domain', 'viewport': 'width=device-width, initial-scale=1', 'sourceURL': 'https://example.com'}, html=None, markdown='Example Domain\\n\\n# Example Domain\\n\\nThis domain is for use in illustrative examples in documents. You may use this\\ndomain in literature without prior coordination or asking for permission.\\n\\n[More information...](https://www.iana.org/domains/example)', links=None, screenshot=None), 'error': None}\n"
                    ]
                }
            ],
            "source": [
                "from langchain_hyperbrowser import HyperbrowserScrapeTool\n",
                "\n",
                "result = HyperbrowserScrapeTool().invoke(\n",
                "    {\"url\": \"https://example.com\", \"scrape_options\": {\"formats\": [\"markdown\"]}}\n",
                ")\n",
                "print(result)"
            ]
        },
        {
            "cell_type": "markdown",
            "metadata": {},
            "source": [
                "## Advanced Usage\n",
                "\n",
                "### With Custom Scraping Options\n"
            ]
        },
        {
            "cell_type": "code",
            "execution_count": 3,
            "metadata": {},
            "outputs": [
                {
                    "name": "stdout",
                    "output_type": "stream",
                    "text": [
                        "{'data': ScrapeJobData(metadata={'url': 'https://www.example.com/', 'title': 'Example Domain', 'viewport': 'width=device-width, initial-scale=1', 'sourceURL': 'https://example.com'}, html='<html><head>\\n    <title>Example Domain</title>\\n\\n    <meta charset=\"utf-8\">\\n    <meta http-equiv=\"Content-type\" content=\"text/html; charset=utf-8\">\\n    <meta name=\"viewport\" content=\"width=device-width, initial-scale=1\">\\n        \\n</head>\\n\\n<body>\\n<div>\\n    <h1>Example Domain</h1>\\n    <p>This domain is for use in illustrative examples in documents. You may use this\\n    domain in literature without prior coordination or asking for permission.</p>\\n    <p><a href=\"https://www.iana.org/domains/example\">More information...</a></p>\\n</div>\\n\\n\\n</body></html>', markdown='Example Domain\\n\\n# Example Domain\\n\\nThis domain is for use in illustrative examples in documents. You may use this\\ndomain in literature without prior coordination or asking for permission.\\n\\n[More information...](https://www.iana.org/domains/example)', links=None, screenshot=None), 'error': None}\n"
                    ]
                }
            ],
            "source": [
                "result = HyperbrowserScrapeTool().run(\n",
                "    {\n",
                "        \"url\": \"https://example.com\",\n",
                "        \"scrape_options\": {\n",
                "            \"formats\": [\"markdown\", \"html\"],\n",
                "        },\n",
                "    }\n",
                ")\n",
                "print(result)"
            ]
        },
        {
            "cell_type": "markdown",
            "metadata": {},
            "source": [
                "### With Custom Session Options\n"
            ]
        },
        {
            "cell_type": "code",
            "execution_count": 4,
            "metadata": {},
            "outputs": [
                {
                    "name": "stdout",
                    "output_type": "stream",
                    "text": [
                        "{'data': ScrapeJobData(metadata={'url': 'https://www.example.com/', 'title': 'Example Domain', 'viewport': 'width=device-width, initial-scale=1', 'sourceURL': 'https://example.com'}, html=None, markdown='Example Domain\\n\\n# Example Domain\\n\\nThis domain is for use in illustrative examples in documents. You may use this\\ndomain in literature without prior coordination or asking for permission.\\n\\n[More information...](https://www.iana.org/domains/example)', links=None, screenshot=None), 'error': None}\n"
                    ]
                }
            ],
            "source": [
                "result = HyperbrowserScrapeTool().run(\n",
                "    {\n",
                "        \"url\": \"https://example.com\",\n",
                "        \"scrape_options\": {\"formats\": [\"markdown\"]},\n",
                "        \"session_options\": {\"use_proxy\": True, \"solve_captchas\": True},\n",
                "    }\n",
                ")\n",
                "print(result)"
            ]
        },
        {
            "cell_type": "markdown",
            "metadata": {},
            "source": [
                "### Using in an Agent\n"
            ]
        },
        {
            "cell_type": "code",
            "execution_count": 7,
            "metadata": {},
            "outputs": [
                {
                    "name": "stdout",
                    "output_type": "stream",
                    "text": [
                        "\n",
                        "\n",
                        "\u001b[1m> Entering new AgentExecutor chain...\u001b[0m\n",
                        "\u001b[32;1m\u001b[1;3m\n",
                        "Invoking: `hyperbrowser_scrape_data` with `{'url': 'https://example.com', 'scrape_options': {'formats': ['markdown']}}`\n",
                        "\n",
                        "\n",
                        "\u001b[0m\u001b[36;1m\u001b[1;3m{'data': ScrapeJobData(metadata={'url': 'https://www.example.com/', 'title': 'Example Domain', 'viewport': 'width=device-width, initial-scale=1', 'sourceURL': 'https://example.com'}, html=None, markdown='Example Domain\\n\\n# Example Domain\\n\\nThis domain is for use in illustrative examples in documents. You may use this\\ndomain in literature without prior coordination or asking for permission.\\n\\n[More information...](https://www.iana.org/domains/example)', links=None, screenshot=None), 'error': None}\u001b[0m\u001b[32;1m\u001b[1;3mI have scraped the main content from [https://example.com](https://example.com):\n",
                        "\n",
                        "---\n",
                        "\n",
                        "# Example Domain\n",
                        "\n",
                        "This domain is for use in illustrative examples in documents. You may use this domain in literature without prior coordination or asking for permission.\n",
                        "\n",
                        "[More information...](https://www.iana.org/domains/example)\u001b[0m\n",
                        "\n",
                        "\u001b[1m> Finished chain.\u001b[0m\n",
                        "{'input': 'Scrape the main content from https://example.com', 'output': 'I have scraped the main content from [https://example.com](https://example.com):\\n\\n---\\n\\n# Example Domain\\n\\nThis domain is for use in illustrative examples in documents. You may use this domain in literature without prior coordination or asking for permission.\\n\\n[More information...](https://www.iana.org/domains/example)'}\n"
                    ]
                }
            ],
            "source": [
                "from langchain.agents import AgentExecutor, create_openai_functions_agent\n",
                "from langchain_openai import ChatOpenAI\n",
                "from langchain_hyperbrowser import HyperbrowserScrapeTool\n",
                "from langchain.prompts import ChatPromptTemplate, MessagesPlaceholder\n",
                "\n",
                "# Initialize the scrape tool\n",
                "scrape_tool = HyperbrowserScrapeTool()\n",
                "\n",
                "# Create the agent with the scrape tool\n",
                "llm = ChatOpenAI(temperature=0)\n",
                "prompt = ChatPromptTemplate.from_messages(\n",
                "    [\n",
                "        (\n",
                "            \"system\",\n",
                "            \"You are a helpful assistant that scrapes content from websites.\",\n",
                "        ),\n",
                "        (\"human\", \"{input}\"),\n",
                "        MessagesPlaceholder(variable_name=\"agent_scratchpad\"),\n",
                "    ]\n",
                ")\n",
                "agent = create_openai_functions_agent(llm, [scrape_tool], prompt=prompt)\n",
                "agent_executor = AgentExecutor(agent=agent, tools=[scrape_tool], verbose=True)\n",
                "\n",
                "# Run the agent\n",
                "result = agent_executor.invoke(\n",
                "    {\"input\": \"Scrape the main content from https://example.com\"}\n",
                ")\n",
                "print(result)"
            ]
        },
        {
            "cell_type": "markdown",
            "metadata": {},
            "source": [
                "### Async Usage\n"
            ]
        },
        {
            "cell_type": "code",
            "execution_count": 8,
            "metadata": {},
            "outputs": [
                {
                    "name": "stdout",
                    "output_type": "stream",
                    "text": [
                        "{'data': ScrapeJobData(metadata={'url': 'https://www.example.com/', 'title': 'Example Domain', 'viewport': 'width=device-width, initial-scale=1', 'sourceURL': 'https://example.com'}, html=None, markdown='Example Domain\\n\\n# Example Domain\\n\\nThis domain is for use in illustrative examples in documents. You may use this\\ndomain in literature without prior coordination or asking for permission.\\n\\n[More information...](https://www.iana.org/domains/example)', links=None, screenshot=None), 'error': None}\n"
                    ]
                }
            ],
            "source": [
                "async def scrape_data():\n",
                "    tool = HyperbrowserScrapeTool()\n",
                "    result = await tool.arun(\n",
                "        {\"url\": \"https://example.com\", \"scrape_options\": {\"formats\": [\"markdown\"]}}\n",
                "    )\n",
                "    return result\n",
                "\n",
                "\n",
                "result = await scrape_data()\n",
                "print(result)"
            ]
        },
        {
            "cell_type": "markdown",
            "metadata": {},
            "source": [
                "## API reference\n",
                "\n",
                "- [GitHub](https://github.com/hyperbrowserai/langchain-hyperbrowser/)\n",
                "- [PyPi](https://pypi.org/project/langchain-hyperbrowser/)\n",
                "- [Hyperbrowser Docs](https://docs.hyperbrowser.ai/)\n"
            ]
        }
    ],
    "metadata": {
        "kernelspec": {
            "display_name": "langchain-hyperbrowser-AlekOQAq-py3.12",
            "language": "python",
            "name": "python3"
        },
        "language_info": {
            "codemirror_mode": {
                "name": "ipython",
                "version": 3
            },
            "file_extension": ".py",
            "mimetype": "text/x-python",
            "name": "python",
            "nbconvert_exporter": "python",
            "pygments_lexer": "ipython3",
            "version": "3.12.3"
        }
    },
    "nbformat": 4,
    "nbformat_minor": 4
}
