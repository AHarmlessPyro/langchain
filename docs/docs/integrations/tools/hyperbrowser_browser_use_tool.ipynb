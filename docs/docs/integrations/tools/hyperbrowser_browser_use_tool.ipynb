{
    "cells": [
        {
            "cell_type": "markdown",
            "metadata": {},
            "source": [
                "---\n",
                "sidebar_label: Hyperbrowser Browser Use\n",
                "---\n"
            ]
        },
        {
            "cell_type": "markdown",
            "metadata": {},
            "source": [
                "# Browser Use Tool\n",
                "\n",
                "[Hyperbrowser](https://hyperbrowser.ai) is a platform for running and scaling headless browsers. It lets you launch and manage browser sessions at scale and provides easy to use solutions for any webscraping needs, such as scraping a single page or crawling an entire site.\n",
                "\n",
                "Key Features:\n",
                "- Instant Scalability - Spin up hundreds of browser sessions in seconds without infrastructure headaches\n",
                "- Simple Integration - Works seamlessly with popular tools like Puppeteer and Playwright\n",
                "- Powerful APIs - Easy to use APIs for scraping/crawling any site, and much more\n",
                "- Bypass Anti-Bot Measures - Built-in stealth mode, ad blocking, automatic CAPTCHA solving, and rotating proxies\n",
                "\n",
                "This notebook provides a quick overview for getting started with Hyperbrowser [document loader](https://python.langchain.com/docs/concepts/#document-loaders).\n",
                "\n",
                "For more information about Hyperbrowser, please visit the [Hyperbrowser website](https://hyperbrowser.ai) or if you want to check out the docs, you can visit the [Hyperbrowser docs](https://docs.hyperbrowser.ai).\n",
                "\n",
                "\n",
                "The `HyperbrowserBrowserUseTool` is a tool that allows you to execute complex web automation tasks using a browser agent. It can navigate websites, interact with elements, and extract information based on natural language instructions. This specific tool provides the `browser-use` as a hosted service.\n",
                "\n",
                "## Overview\n",
                "\n",
                "### Integration details\n",
                "\n",
                "| Tool             | Package                | Local | Serializable | [JS support](https://js.langchain.com/docs/integrations/document_loaders/web_loaders/langchain_hyperbrowser_loader) |\n",
                "| :--------------- | :--------------------- | :---: | :----------: | :-----------------------------------------------------------------------------------------------------------------: |\n",
                "| Browser Use Tool | langchain-hyperbrowser |  ❌   |      ❌      |                                                         ❌                                                          |\n",
                "\n",
                "## Setup\n",
                "\n",
                "To access the browser use tool you'll need to install the `langchain-hyperbrowser` integration package, and create a Hyperbrowser account and get an API key.\n",
                "\n",
                "### Credentials\n",
                "\n",
                "Head to [Hyperbrowser](https://app.hyperbrowser.ai/) to sign up and generate an API key. Once you've done this set the HYPERBROWSER_API_KEY environment variable:\n",
                "\n",
                "```bash\n",
                "export HYPERBROWSER_API_KEY=<your-api-key>\n",
                "```\n"
            ]
        },
        {
            "cell_type": "markdown",
            "metadata": {},
            "source": [
                "### Installation\n",
                "\n",
                "Install **langchain-hyperbrowser**.\n"
            ]
        },
        {
            "cell_type": "code",
            "execution_count": null,
            "metadata": {},
            "outputs": [],
            "source": [
                "%pip install -qU langchain-hyperbrowser"
            ]
        },
        {
            "cell_type": "markdown",
            "metadata": {},
            "source": [
                "## Basic Usage\n",
                "\n",
                "### Simple Task\n"
            ]
        },
        {
            "cell_type": "code",
            "execution_count": 2,
            "metadata": {},
            "outputs": [
                {
                    "name": "stdout",
                    "output_type": "stream",
                    "text": [
                        "{'data': 'The top 5 posts on Hacker News right now are:\\n1. Stop Syncing Everything - https://sqlsync.dev/posts/stop-syncing-everything/\\n2. Move fast, break things: A review of Abundance by Ezra Klein and Derek Thompson - https://networked.substack.com/p/move-fast-and-break-things\\n3. DEDA – Tracking Dots Extraction, Decoding and Anonymisation Toolkit - https://github.com/dfd-tud/deda\\n4. Electron band structure in germanium, my ass (2001) - https://pages.cs.wisc.edu/~kovar/hall.html\\n5. Show HN: I vibecoded a 35k LoC recipe app - https://www.recipeninja.ai', 'error': None}\n"
                    ]
                }
            ],
            "source": [
                "from langchain_hyperbrowser import HyperbrowserBrowserUseTool\n",
                "\n",
                "tool = HyperbrowserBrowserUseTool()\n",
                "result = tool.run({\"task\": \"Go to Hacker News and summarize the top 5 posts right now\"})\n",
                "print(result)"
            ]
        },
        {
            "cell_type": "markdown",
            "metadata": {},
            "source": [
                "## Advanced Usage\n",
                "\n",
                "### With Custom Session Options\n"
            ]
        },
        {
            "cell_type": "code",
            "execution_count": 2,
            "metadata": {},
            "outputs": [
                {
                    "name": "stdout",
                    "output_type": "stream",
                    "text": [
                        "{'data': 'I have found that the react package was last published 11 hours ago. This is the most recently updated package I could find.', 'error': None}\n"
                    ]
                }
            ],
            "source": [
                "result = HyperbrowserBrowserUseTool().run(\n",
                "    {\n",
                "        \"task\": \"Navigate to npmjs.com and find the most recently updated package\",\n",
                "        \"session_options\": {\n",
                "            \"use_proxy\": True,\n",
                "        },\n",
                "    }\n",
                ")\n",
                "\n",
                "print(result)"
            ]
        },
        {
            "cell_type": "markdown",
            "metadata": {},
            "source": [
                "### Using in an Agent\n"
            ]
        },
        {
            "cell_type": "code",
            "execution_count": 6,
            "metadata": {},
            "outputs": [
                {
                    "name": "stdout",
                    "output_type": "stream",
                    "text": [
                        "\n",
                        "\n",
                        "\u001b[1m> Entering new AgentExecutor chain...\u001b[0m\n",
                        "\u001b[32;1m\u001b[1;3m\n",
                        "Invoking: `hyperbrowser_browser_use` with `{'task': 'Go to npmjs.com, click the login button, and find the most recently updated package', 'llm': 'gemini-2.0-flash'}`\n",
                        "\n",
                        "\n",
                        "\u001b[0m\u001b[36;1m\u001b[1;3m{'data': 'The most recently updated package is @revolist/vue3-datagrid, published by kumakint 2 minutes ago.', 'error': None}\u001b[0m\u001b[32;1m\u001b[1;3mThe most recently updated package on npmjs.com is \"@revolist/vue3-datagrid\" published by \"kumakint\" 2 minutes ago.\u001b[0m\n",
                        "\n",
                        "\u001b[1m> Finished chain.\u001b[0m\n"
                    ]
                }
            ],
            "source": [
                "from langchain.agents import AgentExecutor, create_openai_functions_agent\n",
                "from langchain_openai import ChatOpenAI\n",
                "from langchain_hyperbrowser import browser_use_tool\n",
                "from langchain.prompts import ChatPromptTemplate, MessagesPlaceholder\n",
                "\n",
                "llm = ChatOpenAI(temperature=0)\n",
                "\n",
                "prompt = ChatPromptTemplate.from_messages(\n",
                "    [\n",
                "        (\n",
                "            \"system\",\n",
                "            \"You are a helpful assistant that extracts information from websites.\",\n",
                "        ),\n",
                "        (\"human\", \"{input}\"),\n",
                "        MessagesPlaceholder(variable_name=\"agent_scratchpad\"),\n",
                "    ]\n",
                ")\n",
                "\n",
                "\n",
                "browser_use_tool = HyperbrowserBrowserUseTool()\n",
                "\n",
                "agent = create_openai_functions_agent(llm, [browser_use_tool], prompt=prompt)\n",
                "agent_executor = AgentExecutor(agent=agent, tools=[browser_use_tool], verbose=True)\n",
                "\n",
                "result = agent_executor.invoke(\n",
                "    {\n",
                "        \"input\": \"Go to npmjs.com, click the login button, and tell me the most recently updated package\"\n",
                "    }\n",
                ")"
            ]
        },
        {
            "cell_type": "markdown",
            "metadata": {},
            "source": [
                "### Async Usage\n"
            ]
        },
        {
            "cell_type": "code",
            "execution_count": null,
            "metadata": {},
            "outputs": [],
            "source": [
                "async def browse_website():\n",
                "    tool = HyperbrowserBrowserUseTool()\n",
                "    result = await tool.arun(\n",
                "        {\n",
                "            \"task\": \"Go to npmjs.com, click the first visible package, and tell me when it was updated\"\n",
                "        }\n",
                "    )\n",
                "    return result\n",
                "\n",
                "\n",
                "result = await browse_website()"
            ]
        },
        {
            "cell_type": "markdown",
            "metadata": {},
            "source": [
                "## Configuration Options\n",
                "\n",
                "The browser use tool supports various configuration options:\n",
                "\n",
                "- `task`: The task to execute using the browser agent\n",
                "- `llm`: The language model to use for generating actions\n",
                "- `session_id`: Optional session ID to reuse an existing browser session\n",
                "- `validate_output`: Whether to validate the agent's output format\n",
                "- `use_vision`: Whether to use visual analysis for better context\n",
                "- `use_vision_for_planner`: Whether to use vision for the planner component\n",
                "- `max_actions_per_step`: Maximum actions per step\n",
                "- `max_input_tokens`: Maximum token limit for inputs\n",
                "- `planner_llm`: Language model for planning future actions\n",
                "- `page_extraction_llm`: Language model for extracting structured data\n",
                "- `planner_interval`: How often the planner runs\n",
                "- `max_steps`: Maximum number of steps\n",
                "- `keep_browser_open`: Whether to keep the browser session open\n",
                "- `session_options`: Browser session configuration\n",
                "\n",
                "For more details, see the [Browser Use API Reference](https://docs.hyperbrowser.ai/reference/api-reference/agents/browser-use).\n"
            ]
        },
        {
            "cell_type": "markdown",
            "metadata": {},
            "source": [
                "## API reference\n",
                "\n",
                "- [GitHub](https://github.com/hyperbrowserai/langchain-hyperbrowser/)\n",
                "- [PyPi](https://pypi.org/project/langchain-hyperbrowser/)\n",
                "- [Hyperbrowser Docs](https://docs.hyperbrowser.ai/)\n"
            ]
        }
    ],
    "metadata": {
        "kernelspec": {
            "display_name": "langchain-hyperbrowser-AlekOQAq-py3.12",
            "language": "python",
            "name": "python3"
        },
        "language_info": {
            "codemirror_mode": {
                "name": "ipython",
                "version": 3
            },
            "file_extension": ".py",
            "mimetype": "text/x-python",
            "name": "python",
            "nbconvert_exporter": "python",
            "pygments_lexer": "ipython3",
            "version": "3.12.3"
        }
    },
    "nbformat": 4,
    "nbformat_minor": 4
}
